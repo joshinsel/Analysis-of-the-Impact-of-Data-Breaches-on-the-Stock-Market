{
 "cells": [
  {
   "cell_type": "code",
   "execution_count": 1,
   "metadata": {
    "collapsed": false
   },
   "outputs": [],
   "source": [
    "#Author: Joshua Insel\n",
    "#Cumulative Abnormal Returns for Data Breach Events\n",
    "\n",
    "#RFR - Risk free rate (3-Month Treasury Bill interest rate) \n",
    "#MR - Market return (S&P 500)\n",
    "#Expected return - Output of CAPM\n",
    "#Abnormal return - Difference between actual stock return and expected return\n",
    "#CAR - Cumulative abnormal return\n",
    "\n",
    "#Treasury Bill Rates - www.treasury.gov/resource-center/data-chart-center/interest-rates/Pages/default.aspx\n",
    "#Stock Prices and S&P 500 - www.finance.yahoo.com\n",
    "\n",
    "import numpy as np\n",
    "import pandas as pd\n",
    "\n",
    "companies = ['Anthem', 'T-Mobile', 'Verizon', 'Yahoo (September)', 'Yahoo (December)']\n",
    "days = ['[-1, 0]', '[-1, 1]', '[-1, 7]', '[0, 0]', '[0, 1]', '[0, 7]']"
   ]
  },
  {
   "cell_type": "code",
   "execution_count": 2,
   "metadata": {
    "collapsed": false
   },
   "outputs": [],
   "source": [
    "sp500 = pd.read_csv('S&P 500.csv')\n",
    "sp500_close = pd.Series(sp500['Close'][::-1].values, index = sp500['Date'][::-1].values)"
   ]
  },
  {
   "cell_type": "code",
   "execution_count": 3,
   "metadata": {
    "collapsed": false
   },
   "outputs": [
    {
     "data": {
      "text/plain": [
       "2015-02-02    135.500000\n",
       "2015-02-03    136.960007\n",
       "2015-02-04    137.649994\n",
       "2015-02-05    137.229996\n",
       "2015-02-06    135.690002\n",
       "2015-02-09    134.880005\n",
       "2015-02-10    138.740005\n",
       "2015-02-11    141.490005\n",
       "2015-02-12    142.000000\n",
       "2015-02-13    141.050003\n",
       "dtype: float64"
      ]
     },
     "execution_count": 3,
     "metadata": {},
     "output_type": "execute_result"
    }
   ],
   "source": [
    "#Anthem - Febrary 4, 2015\n",
    "anthem = pd.read_csv('Anthem.csv')\n",
    "anthem_dates = anthem['Date'][::-1].values\n",
    "anthem_close = pd.Series(anthem['Close'][::-1].values, index = anthem_dates)\n",
    "anthem_close"
   ]
  },
  {
   "cell_type": "code",
   "execution_count": 4,
   "metadata": {
    "collapsed": false
   },
   "outputs": [],
   "source": [
    "anthem_beta = 0.74\n",
    "anthem_rfr = np.array([0.02, 0.01, 0.02, 0.02, 0.01, 0.01, 0.01, 0.02, 0.01])  \n",
    "anthem_mr = (sp500_close[anthem_dates][1:].values - sp500_close[anthem_dates][:-1].values)/sp500_close[anthem_dates][:-1].values "
   ]
  },
  {
   "cell_type": "code",
   "execution_count": 5,
   "metadata": {
    "collapsed": false
   },
   "outputs": [
    {
     "data": {
      "text/plain": [
       "2015-02-03   -0.005110\n",
       "2015-02-04    0.005513\n",
       "2015-02-05   -0.015867\n",
       "2015-02-06   -0.013893\n",
       "2015-02-09   -0.005427\n",
       "2015-02-10    0.018118\n",
       "2015-02-11    0.017243\n",
       "2015-02-12   -0.008732\n",
       "2015-02-13   -0.012305\n",
       "dtype: float64"
      ]
     },
     "execution_count": 5,
     "metadata": {},
     "output_type": "execute_result"
    }
   ],
   "source": [
    "anthem_returns = (anthem_close[1:].values - anthem_close[:-1].values)/anthem_close[:-1].values\n",
    "anthem_expected = anthem_rfr + anthem_beta*(anthem_mr - anthem_rfr)\n",
    "anthem_abnormal = pd.Series(anthem_returns - anthem_expected, index= anthem_dates[1:])\n",
    "anthem_abnormal"
   ]
  },
  {
   "cell_type": "code",
   "execution_count": 6,
   "metadata": {
    "collapsed": false
   },
   "outputs": [],
   "source": [
    "anthem_car = np.array([anthem_abnormal[0:2].sum(axis=0), anthem_abnormal[0:3].sum(axis=0), anthem_abnormal.sum(axis=0),\n",
    "                     anthem_abnormal[1], anthem_abnormal[1:3].sum(axis=0), anthem_abnormal[1:].sum(axis=0)])"
   ]
  },
  {
   "cell_type": "code",
   "execution_count": 7,
   "metadata": {
    "collapsed": false
   },
   "outputs": [
    {
     "data": {
      "text/plain": [
       "2015-09-29    39.560001\n",
       "2015-09-30    39.810001\n",
       "2015-10-01    40.130001\n",
       "2015-10-02    40.700001\n",
       "2015-10-05    40.959999\n",
       "2015-10-06    40.650002\n",
       "2015-10-07    40.369999\n",
       "2015-10-08    39.560001\n",
       "2015-10-09    39.610001\n",
       "2015-10-12    40.529999\n",
       "dtype: float64"
      ]
     },
     "execution_count": 7,
     "metadata": {},
     "output_type": "execute_result"
    }
   ],
   "source": [
    "#T-Mobile - October 1, 2015\n",
    "t_mobile = pd.read_csv('T-Mobile.csv')\n",
    "t_mobile_dates = t_mobile['Date'][::-1].values\n",
    "t_mobile_close = pd.Series(t_mobile['Close'][::-1].values, index = t_mobile_dates)\n",
    "t_mobile_close"
   ]
  },
  {
   "cell_type": "code",
   "execution_count": 8,
   "metadata": {
    "collapsed": false
   },
   "outputs": [],
   "source": [
    "t_mobile_beta = 0.21\n",
    "t_mobile_rfr = np.array([0.00, 0.00, 0.00, 0.01, 0.00, 0.00, 0.00, 0.01, 0.01])\n",
    "t_mobile_mr = (sp500_close[t_mobile_dates][1:].values - sp500_close[t_mobile_dates][:-1].values)/sp500_close[t_mobile_dates][:-1].values"
   ]
  },
  {
   "cell_type": "code",
   "execution_count": 9,
   "metadata": {
    "collapsed": false
   },
   "outputs": [
    {
     "data": {
      "text/plain": [
       "2015-09-30    0.002314\n",
       "2015-10-01    0.007624\n",
       "2015-10-02    0.011198\n",
       "2015-10-05   -0.005353\n",
       "2015-10-06   -0.006815\n",
       "2015-10-07   -0.008576\n",
       "2015-10-08   -0.021916\n",
       "2015-10-09   -0.006788\n",
       "2015-10-12    0.015059\n",
       "dtype: float64"
      ]
     },
     "execution_count": 9,
     "metadata": {},
     "output_type": "execute_result"
    }
   ],
   "source": [
    "t_mobile_returns = (t_mobile_close[1:].values - t_mobile_close[:-1].values)/t_mobile_close[:-1].values\n",
    "t_mobile_expected = t_mobile_rfr + t_mobile_beta*(t_mobile_mr - t_mobile_rfr)\n",
    "t_mobile_abnormal = pd.Series(t_mobile_returns - t_mobile_expected, index = t_mobile_dates[1:])\n",
    "t_mobile_abnormal"
   ]
  },
  {
   "cell_type": "code",
   "execution_count": 10,
   "metadata": {
    "collapsed": true
   },
   "outputs": [],
   "source": [
    "t_mobile_car = np.array([t_mobile_abnormal[0:2].sum(axis=0), t_mobile_abnormal[0:3].sum(axis=0), t_mobile_abnormal.sum(axis=0),\n",
    "                     t_mobile_abnormal[1], t_mobile_abnormal[1:3].sum(axis=0), t_mobile_abnormal[1:].sum(axis=0)])"
   ]
  },
  {
   "cell_type": "code",
   "execution_count": 11,
   "metadata": {
    "collapsed": false
   },
   "outputs": [
    {
     "data": {
      "text/plain": [
       "2016-03-22    53.209999\n",
       "2016-03-23    52.910000\n",
       "2016-03-24    53.560001\n",
       "2016-03-28    53.400002\n",
       "2016-03-29    54.049999\n",
       "2016-03-30    54.040001\n",
       "2016-03-31    54.080002\n",
       "2016-04-01    54.009998\n",
       "2016-04-04    54.419998\n",
       "2016-04-05    54.090000\n",
       "dtype: float64"
      ]
     },
     "execution_count": 11,
     "metadata": {},
     "output_type": "execute_result"
    }
   ],
   "source": [
    "#Verizon - March 24, 2016\n",
    "verizon = pd.read_csv('Verizon.csv')\n",
    "verizon_dates = verizon['Date'][::-1].values\n",
    "verizon_close = pd.Series(verizon['Close'][::-1].values, index = verizon_dates)\n",
    "verizon_close"
   ]
  },
  {
   "cell_type": "code",
   "execution_count": 12,
   "metadata": {
    "collapsed": true
   },
   "outputs": [],
   "source": [
    "verizon_beta = 0.59\n",
    "verizon_rfr = np.array([0.30, 0.30, 0.29, 0.23, 0.20, 0.21, 0.23, 0.23, 0.23])\n",
    "verizon_mr = (sp500_close[verizon_dates][1:].values - sp500_close[verizon_dates][:-1].values)/sp500_close[verizon_dates][:-1].values"
   ]
  },
  {
   "cell_type": "code",
   "execution_count": 13,
   "metadata": {
    "collapsed": false
   },
   "outputs": [
    {
     "data": {
      "text/plain": [
       "2016-03-23   -0.124870\n",
       "2016-03-24   -0.110492\n",
       "2016-03-28   -0.122209\n",
       "2016-03-29   -0.087330\n",
       "2016-03-30   -0.084752\n",
       "2016-03-31   -0.084156\n",
       "2016-04-01   -0.099330\n",
       "2016-04-04   -0.084816\n",
       "2016-04-05   -0.094379\n",
       "dtype: float64"
      ]
     },
     "execution_count": 13,
     "metadata": {},
     "output_type": "execute_result"
    }
   ],
   "source": [
    "verizon_returns = (verizon_close[1:].values - verizon_close[:-1].values)/verizon_close[:-1].values\n",
    "verizon_expected = verizon_rfr + verizon_beta*(verizon_mr - verizon_rfr)\n",
    "verizon_abnormal = pd.Series(verizon_returns - verizon_expected, index = verizon_dates[1:])\n",
    "verizon_abnormal"
   ]
  },
  {
   "cell_type": "code",
   "execution_count": 14,
   "metadata": {
    "collapsed": false
   },
   "outputs": [],
   "source": [
    "verizon_car = np.array([verizon_abnormal[0:2].sum(axis=0), verizon_abnormal[0:3].sum(axis=0), verizon_abnormal.sum(axis=0),\n",
    "                     verizon_abnormal[1], verizon_abnormal[1:3].sum(axis=0), verizon_abnormal[1:].sum(axis=0)])"
   ]
  },
  {
   "cell_type": "code",
   "execution_count": 15,
   "metadata": {
    "collapsed": false
   },
   "outputs": [
    {
     "data": {
      "text/plain": [
       "2016-09-20    42.790001\n",
       "2016-09-21    44.139999\n",
       "2016-09-22    44.150002\n",
       "2016-09-23    42.799999\n",
       "2016-09-26    42.290001\n",
       "2016-09-27    43.369999\n",
       "2016-09-28    43.689999\n",
       "2016-09-29    42.570000\n",
       "2016-09-30    43.099998\n",
       "dtype: float64"
      ]
     },
     "execution_count": 15,
     "metadata": {},
     "output_type": "execute_result"
    }
   ],
   "source": [
    "#Yahoo - September 22, 2016\n",
    "yahoo_sep = pd.read_csv('Yahoo September.csv')\n",
    "yahoo_sep_dates = yahoo_sep['Date'][::-1].values\n",
    "yahoo_sep_close = pd.Series(yahoo_sep['Close'][::-1].values, index = yahoo_sep_dates)\n",
    "yahoo_sep_close"
   ]
  },
  {
   "cell_type": "code",
   "execution_count": 16,
   "metadata": {
    "collapsed": true
   },
   "outputs": [],
   "source": [
    "yahoo_beta = 1.88\n",
    "yahoo_sep_rfr = np.array([0.22, 0.18, 0.18, 0.25, 0.26, 0.27, 0.26, 0.29])\n",
    "yahoo_sep_mr = (sp500_close[yahoo_sep_dates][1:].values - sp500_close[yahoo_sep_dates][:-1].values)/sp500_close[yahoo_sep_dates][:-1].values"
   ]
  },
  {
   "cell_type": "code",
   "execution_count": 17,
   "metadata": {
    "collapsed": false
   },
   "outputs": [
    {
     "data": {
      "text/plain": [
       "2016-09-21    0.204625\n",
       "2016-09-22    0.146407\n",
       "2016-09-23    0.138607\n",
       "2016-09-26    0.224229\n",
       "2016-09-27    0.242223\n",
       "2016-09-28    0.235021\n",
       "2016-09-29    0.220689\n",
       "2016-09-30    0.252670\n",
       "dtype: float64"
      ]
     },
     "execution_count": 17,
     "metadata": {},
     "output_type": "execute_result"
    }
   ],
   "source": [
    "yahoo_sep_returns = (yahoo_sep_close[1:].values - yahoo_sep_close[:-1].values)/yahoo_sep_close[:-1].values\n",
    "yahoo_sep_expected = yahoo_sep_rfr + yahoo_beta*(yahoo_sep_mr - yahoo_sep_rfr)\n",
    "yahoo_sep_abnormal = pd.Series(yahoo_sep_returns - yahoo_sep_expected, index = yahoo_sep_dates[1:])\n",
    "yahoo_sep_abnormal"
   ]
  },
  {
   "cell_type": "code",
   "execution_count": 18,
   "metadata": {
    "collapsed": true
   },
   "outputs": [],
   "source": [
    "yahoo_sep_car = np.array([yahoo_sep_abnormal[0:2].sum(axis=0), yahoo_sep_abnormal[0:3].sum(axis=0), yahoo_sep_abnormal.sum(axis=0),\n",
    "                     yahoo_sep_abnormal[1], yahoo_sep_abnormal[1:3].sum(axis=0), yahoo_sep_abnormal[1:].sum(axis=0)])"
   ]
  },
  {
   "cell_type": "code",
   "execution_count": 19,
   "metadata": {
    "collapsed": false
   },
   "outputs": [
    {
     "data": {
      "text/plain": [
       "2016-12-12    41.299999\n",
       "2016-12-13    41.470001\n",
       "2016-12-14    40.910000\n",
       "2016-12-15    38.410000\n",
       "2016-12-16    38.610001\n",
       "2016-12-19    38.419998\n",
       "2016-12-20    39.160000\n",
       "2016-12-21    39.150002\n",
       "2016-12-22    38.500000\n",
       "dtype: float64"
      ]
     },
     "execution_count": 19,
     "metadata": {},
     "output_type": "execute_result"
    }
   ],
   "source": [
    "#Yahoo - December 14, 2016\n",
    "yahoo_dec = pd.read_csv('Yahoo December.csv')\n",
    "yahoo_dec_dates = yahoo_dec['Date'][::-1].values\n",
    "yahoo_dec_close = pd.Series(yahoo_dec['Close'][::-1].values, yahoo_dec_dates)\n",
    "yahoo_dec_close"
   ]
  },
  {
   "cell_type": "code",
   "execution_count": 20,
   "metadata": {
    "collapsed": true
   },
   "outputs": [],
   "source": [
    "yahoo_dec_rfr = np.array([0.54, 0.55, 0.51, 0.51, 0.52, 0.52, 0.52, 0.51])\n",
    "yahoo_dec_mr = (sp500_close[yahoo_dec_dates][1:].values - sp500_close[yahoo_dec_dates][:-1].values)/sp500_close[yahoo_dec_dates][:-1].values"
   ]
  },
  {
   "cell_type": "code",
   "execution_count": 21,
   "metadata": {
    "collapsed": false
   },
   "outputs": [
    {
     "data": {
      "text/plain": [
       "2016-12-13    0.467021\n",
       "2016-12-14    0.485757\n",
       "2016-12-15    0.380390\n",
       "2016-12-16    0.457298\n",
       "2016-12-19    0.448966\n",
       "2016-12-20    0.470022\n",
       "2016-12-21    0.461965\n",
       "2016-12-22    0.435700\n",
       "dtype: float64"
      ]
     },
     "execution_count": 21,
     "metadata": {},
     "output_type": "execute_result"
    }
   ],
   "source": [
    "yahoo_dec_returns = (yahoo_dec_close[1:].values - yahoo_dec_close[:-1].values)/yahoo_dec_close[:-1].values\n",
    "yahoo_dec_expected = yahoo_dec_rfr + yahoo_beta*(yahoo_dec_mr - yahoo_dec_rfr)\n",
    "yahoo_dec_abnormal = pd.Series(yahoo_dec_returns - yahoo_dec_expected, index = yahoo_dec_dates[1:])\n",
    "yahoo_dec_abnormal"
   ]
  },
  {
   "cell_type": "code",
   "execution_count": 22,
   "metadata": {
    "collapsed": false
   },
   "outputs": [],
   "source": [
    "yahoo_dec_car = np.array([yahoo_dec_abnormal[0:2].sum(axis=0), yahoo_dec_abnormal[0:3].sum(axis=0), yahoo_dec_abnormal.sum(axis=0),\n",
    "                     yahoo_dec_abnormal[1], yahoo_dec_abnormal[1:3].sum(axis=0), yahoo_dec_abnormal[1:].sum(axis=0)])"
   ]
  },
  {
   "cell_type": "code",
   "execution_count": 23,
   "metadata": {
    "collapsed": true
   },
   "outputs": [],
   "source": [
    "car_table = pd.DataFrame([anthem_car, t_mobile_car, verizon_car, yahoo_sep_car, yahoo_dec_car], index = companies, columns = days)"
   ]
  },
  {
   "cell_type": "code",
   "execution_count": 24,
   "metadata": {
    "collapsed": false
   },
   "outputs": [
    {
     "data": {
      "text/html": [
       "<div>\n",
       "<table border=\"1\" class=\"dataframe\">\n",
       "  <thead>\n",
       "    <tr style=\"text-align: right;\">\n",
       "      <th></th>\n",
       "      <th>[-1, 0]</th>\n",
       "      <th>[-1, 1]</th>\n",
       "      <th>[-1, 7]</th>\n",
       "      <th>[0, 0]</th>\n",
       "      <th>[0, 1]</th>\n",
       "      <th>[0, 7]</th>\n",
       "    </tr>\n",
       "  </thead>\n",
       "  <tbody>\n",
       "    <tr>\n",
       "      <th>Anthem</th>\n",
       "      <td>0.000403</td>\n",
       "      <td>-0.015464</td>\n",
       "      <td>-0.020460</td>\n",
       "      <td>0.005513</td>\n",
       "      <td>-0.010353</td>\n",
       "      <td>-0.015350</td>\n",
       "    </tr>\n",
       "    <tr>\n",
       "      <th>T-Mobile</th>\n",
       "      <td>0.009937</td>\n",
       "      <td>0.021135</td>\n",
       "      <td>-0.013254</td>\n",
       "      <td>0.007624</td>\n",
       "      <td>0.018821</td>\n",
       "      <td>-0.015568</td>\n",
       "    </tr>\n",
       "    <tr>\n",
       "      <th>Verizon</th>\n",
       "      <td>-0.235362</td>\n",
       "      <td>-0.357571</td>\n",
       "      <td>-0.892333</td>\n",
       "      <td>-0.110492</td>\n",
       "      <td>-0.232701</td>\n",
       "      <td>-0.767463</td>\n",
       "    </tr>\n",
       "    <tr>\n",
       "      <th>Yahoo (September)</th>\n",
       "      <td>0.351032</td>\n",
       "      <td>0.489640</td>\n",
       "      <td>1.664472</td>\n",
       "      <td>0.146407</td>\n",
       "      <td>0.285015</td>\n",
       "      <td>1.459847</td>\n",
       "    </tr>\n",
       "    <tr>\n",
       "      <th>Yahoo (December)</th>\n",
       "      <td>0.952778</td>\n",
       "      <td>1.333168</td>\n",
       "      <td>3.607118</td>\n",
       "      <td>0.485757</td>\n",
       "      <td>0.866146</td>\n",
       "      <td>3.140097</td>\n",
       "    </tr>\n",
       "  </tbody>\n",
       "</table>\n",
       "</div>"
      ],
      "text/plain": [
       "                    [-1, 0]   [-1, 1]   [-1, 7]    [0, 0]    [0, 1]    [0, 7]\n",
       "Anthem             0.000403 -0.015464 -0.020460  0.005513 -0.010353 -0.015350\n",
       "T-Mobile           0.009937  0.021135 -0.013254  0.007624  0.018821 -0.015568\n",
       "Verizon           -0.235362 -0.357571 -0.892333 -0.110492 -0.232701 -0.767463\n",
       "Yahoo (September)  0.351032  0.489640  1.664472  0.146407  0.285015  1.459847\n",
       "Yahoo (December)   0.952778  1.333168  3.607118  0.485757  0.866146  3.140097"
      ]
     },
     "execution_count": 24,
     "metadata": {},
     "output_type": "execute_result"
    }
   ],
   "source": [
    "car_table"
   ]
  },
  {
   "cell_type": "code",
   "execution_count": null,
   "metadata": {
    "collapsed": true
   },
   "outputs": [],
   "source": []
  },
  {
   "cell_type": "code",
   "execution_count": null,
   "metadata": {
    "collapsed": true
   },
   "outputs": [],
   "source": []
  },
  {
   "cell_type": "code",
   "execution_count": null,
   "metadata": {
    "collapsed": true
   },
   "outputs": [],
   "source": []
  },
  {
   "cell_type": "code",
   "execution_count": null,
   "metadata": {
    "collapsed": true
   },
   "outputs": [],
   "source": []
  }
 ],
 "metadata": {
  "kernelspec": {
   "display_name": "Python 3",
   "language": "python",
   "name": "python3"
  },
  "language_info": {
   "codemirror_mode": {
    "name": "ipython",
    "version": 3
   },
   "file_extension": ".py",
   "mimetype": "text/x-python",
   "name": "python",
   "nbconvert_exporter": "python",
   "pygments_lexer": "ipython3",
   "version": "3.6.0"
  }
 },
 "nbformat": 4,
 "nbformat_minor": 2
}
